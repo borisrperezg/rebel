{
 "cells": [
  {
   "cell_type": "code",
   "execution_count": 1,
   "metadata": {},
   "outputs": [],
   "source": [
    "import os\n",
    "import sys\n",
    "import pandas as pd\n",
    "import nltk, re, string, collections\n",
    "\n",
    "from nltk import ngrams\n",
    "from pandas import read_csv\n",
    "from nltk.corpus import stopwords  \n",
    "from nltk.tokenize import word_tokenize  \n",
    "from nltk.stem import WordNetLemmatizer \n",
    "\n",
    "\n",
    "pd.set_option(\"display.max_columns\", 100)\n",
    "\n",
    "# Se pueden usar 'english' o 'spanish'\n",
    "stop_words = set(stopwords.words('spanish'))  \n",
    "lemmatizer = WordNetLemmatizer() \n"
   ]
  },
  {
   "cell_type": "code",
   "execution_count": 2,
   "metadata": {},
   "outputs": [],
   "source": [
    "fileName = 'facts_prediction_dataset_1616449779714'\n",
    "\n",
    "# Load dataset inicial\n",
    "# El objetivo es procesar primero los campos de commits, adrs y chat/emails y dejar solo las palabras mas relevantes\n",
    "df_ = read_csv('/Users/borisperezg/rebelmodels_storing/datasets_to_classify/'+fileName+'.csv', delimiter=\"|\")"
   ]
  },
  {
   "cell_type": "code",
   "execution_count": 3,
   "metadata": {},
   "outputs": [],
   "source": [
    "# ---------------------------------------------------------------------\n",
    "# DEFINICION DE FUNCIONES DE REMOCION DE STOP WORDS Y LEMATIZACION\n",
    "# ---------------------------------------------------------------------"
   ]
  },
  {
   "cell_type": "code",
   "execution_count": 4,
   "metadata": {},
   "outputs": [],
   "source": [
    "def remove_stopwords(newText):\n",
    "    word_tokens = word_tokenize(newText.lower())  \n",
    "  \n",
    "    filtered_sentence = [w for w in word_tokens if not w in stop_words]  \n",
    "  \n",
    "    filtered_sentence = []  \n",
    "  \n",
    "    for w in word_tokens:  \n",
    "        # Excluyendo los stopwords\n",
    "        if w not in stop_words:  \n",
    "            # Excluyendo puntuaciones\n",
    "            if w.isalpha():\n",
    "                filtered_sentence.append(lemmatizer.lemmatize(w))\n",
    "            \n",
    "    return \" \".join(filtered_sentence)\n",
    "\n",
    "def bestNGrams(newText):\n",
    "\n",
    "    my_ngrams = ngrams(newText.split(), 2)\n",
    "    esBigramFreq = collections.Counter(my_ngrams)\n",
    "    \n",
    "    xyz = ''\n",
    "    \n",
    "    for letter, count in esBigramFreq.most_common(5):\n",
    "        xyz += ' '.join(letter)\n",
    "        xyz += ' '\n",
    "    \n",
    "    return xyz"
   ]
  },
  {
   "cell_type": "code",
   "execution_count": 5,
   "metadata": {},
   "outputs": [],
   "source": [
    "# ------------------------------------------------------------\n",
    "# PROCESAMIENTO DE CAMPOS COMMITLOGS, ADR Y CHATLOGS\n",
    "# ------------------------------------------------------------"
   ]
  },
  {
   "cell_type": "code",
   "execution_count": 6,
   "metadata": {},
   "outputs": [],
   "source": [
    "df_[['commitlogs']] = df_[['commitlogs']].fillna(value='NoData')\n",
    "df_['commitlogs_lemma'] = df_.commitlogs.apply(remove_stopwords)\n",
    "df_['commitlogs_ngrams'] = df_.commitlogs_lemma.apply(bestNGrams)"
   ]
  },
  {
   "cell_type": "code",
   "execution_count": 7,
   "metadata": {},
   "outputs": [],
   "source": [
    "df_[['chatlogs']] = df_[['chatlogs']].fillna(value='NoData')\n",
    "df_['chatlogs_lemma'] = df_.chatlogs.apply(remove_stopwords)\n",
    "df_['chatlogs_ngrams'] = df_.chatlogs_lemma.apply(bestNGrams)"
   ]
  },
  {
   "cell_type": "code",
   "execution_count": 8,
   "metadata": {},
   "outputs": [],
   "source": [
    "df_[['adrlogs']] = df_[['adrlogs']].fillna(value='NoData')\n",
    "df_['adrlogs_lemma'] = df_.adrlogs.apply(remove_stopwords)\n",
    "df_['adrlogs_ngrams'] = df_.adrlogs_lemma.apply(bestNGrams)"
   ]
  },
  {
   "cell_type": "code",
   "execution_count": 9,
   "metadata": {},
   "outputs": [],
   "source": [
    "# ------------------------------------------------------------\n",
    "# BORRANDO COLUMNAS YA PROCESADAS\n",
    "# ------------------------------------------------------------"
   ]
  },
  {
   "cell_type": "code",
   "execution_count": 10,
   "metadata": {},
   "outputs": [],
   "source": [
    "df_.drop(['commitlogs'], axis=1, inplace = True)\n",
    "df_.drop(['commitlogs_lemma'], axis=1, inplace = True)\n",
    "\n",
    "df_.drop(['chatlogs'], axis=1, inplace = True)\n",
    "df_.drop(['chatlogs_lemma'], axis=1, inplace = True)\n",
    "\n",
    "df_.drop(['adrlogs'], axis=1, inplace = True)\n",
    "df_.drop(['adrlogs_lemma'], axis=1, inplace = True)"
   ]
  },
  {
   "cell_type": "code",
   "execution_count": 11,
   "metadata": {},
   "outputs": [],
   "source": [
    "# ------------------------------------------------------------------------------\n",
    "# SE ALMACENA EL ARCHIVO LISTO PARA SER USADO PARA ENTRENAR O IDENTIFICAR\n",
    "# ------------------------------------------------------------------------------"
   ]
  },
  {
   "cell_type": "code",
   "execution_count": 12,
   "metadata": {},
   "outputs": [],
   "source": [
    "df_.to_csv('/Users/borisperezg/rebelmodels_storing/datasets_to_classify/'+fileName+'_pa.csv', index=False, index_label=True)"
   ]
  },
  {
   "cell_type": "code",
   "execution_count": null,
   "metadata": {},
   "outputs": [],
   "source": []
  }
 ],
 "metadata": {
  "kernelspec": {
   "display_name": "Python 3",
   "language": "python",
   "name": "python3"
  },
  "language_info": {
   "codemirror_mode": {
    "name": "ipython",
    "version": 3
   },
   "file_extension": ".py",
   "mimetype": "text/x-python",
   "name": "python",
   "nbconvert_exporter": "python",
   "pygments_lexer": "ipython3",
   "version": "3.7.6"
  }
 },
 "nbformat": 4,
 "nbformat_minor": 4
}
